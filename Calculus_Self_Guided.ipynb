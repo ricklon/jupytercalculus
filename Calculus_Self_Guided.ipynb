{
  "nbformat": 4,
  "nbformat_minor": 0,
  "metadata": {
    "colab": {
      "name": "Calculus Self Guided",
      "provenance": [],
      "collapsed_sections": [],
      "authorship_tag": "ABX9TyOyZgmDG0UF4eDDakCXo8EF",
      "include_colab_link": true
    },
    "kernelspec": {
      "name": "python3",
      "display_name": "Python 3"
    }
  },
  "cells": [
    {
      "cell_type": "markdown",
      "metadata": {
        "id": "view-in-github",
        "colab_type": "text"
      },
      "source": [
        "<a href=\"https://colab.research.google.com/github/ricklon/jupytercalculus/blob/master/Calculus_Self_Guided.ipynb\" target=\"_parent\"><img src=\"https://colab.research.google.com/assets/colab-badge.svg\" alt=\"Open In Colab\"/></a>"
      ]
    },
    {
      "cell_type": "markdown",
      "metadata": {
        "id": "56UZv9vOvsd1",
        "colab_type": "text"
      },
      "source": [
        "Plot a parabola\n",
        "\n",
        "Example from: https://stackoverflow.com/questions/30553585/graphing-a-parabola-using-matplotlib-in-python\n",
        "\n",
        "More examples: https://github.com/nishadhka/Learning-Calculus-with-Python/blob/master/p1_sympy_intro/basic_calculus_sympy.ipynb\n"
      ]
    },
    {
      "cell_type": "code",
      "metadata": {
        "id": "ZUIgzhSPuY-P",
        "colab_type": "code",
        "colab": {}
      },
      "source": [
        "import matplotlib.pyplot as plt\n",
        "import numpy as np\n"
      ],
      "execution_count": 0,
      "outputs": []
    },
    {
      "cell_type": "code",
      "metadata": {
        "id": "w9SWwkuUup_A",
        "colab_type": "code",
        "colab": {}
      },
      "source": [
        "a=[]\n",
        "b=[]\n",
        "\n",
        "for x in range(-50, 50,1):\n",
        "  y=x**2\n",
        "  a.append(x)\n",
        "  b.append(y)"
      ],
      "execution_count": 0,
      "outputs": []
    },
    {
      "cell_type": "code",
      "metadata": {
        "id": "0MnesRKlvQiE",
        "colab_type": "code",
        "outputId": "61e9064f-14b6-41ee-aabd-c5a517a604eb",
        "colab": {
          "base_uri": "https://localhost:8080/",
          "height": 265
        }
      },
      "source": [
        "fig = plt.figure()\n",
        "axes= fig.add_subplot(111)\n",
        "axes.plot(a,b)\n",
        "plt.show()\n"
      ],
      "execution_count": 0,
      "outputs": [
        {
          "output_type": "display_data",
          "data": {
            "image/png": "[encoded data removed]",
            "text/plain": [
              "<Figure size 432x288 with 1 Axes>"
            ]
          },
          "metadata": {
            "tags": []
          }
        }
      ]
    },
    {
      "cell_type": "markdown",
      "metadata": {
        "id": "dVaWQEqqwnU0",
        "colab_type": "text"
      },
      "source": [
        "Plot derivative of x**2\n",
        "\n",
        "f(x) = 2x"
      ]
    },
    {
      "cell_type": "code",
      "metadata": {
        "id": "g7lABdIbwxAG",
        "colab_type": "code",
        "colab": {}
      },
      "source": [
        "a=[]\n",
        "b=[]\n",
        "\n",
        "for x in range(-50, 50,1):\n",
        "  y=2*x\n",
        "  a.append(x)\n",
        "  b.append(y)"
      ],
      "execution_count": 0,
      "outputs": []
    },
    {
      "cell_type": "code",
      "metadata": {
        "id": "kKbtsISuwx-T",
        "colab_type": "code",
        "outputId": "80c9d9f6-8257-4ddc-f817-a9dad2f8fcd1",
        "colab": {
          "base_uri": "https://localhost:8080/",
          "height": 265
        }
      },
      "source": [
        "fig = plt.figure()\n",
        "axes= fig.add_subplot(111)\n",
        "axes.plot(a,b)\n",
        "plt.show()"
      ],
      "execution_count": 0,
      "outputs": [
        {
          "output_type": "display_data",
          "data": {
            "image/png": "[encoded data removed]",
            "text/plain": [
              "<Figure size 432x288 with 1 Axes>"
            ]
          },
          "metadata": {
            "tags": []
          }
        }
      ]
    },
    {
      "cell_type": "markdown",
      "metadata": {
        "id": "7TzLR6cVxBDj",
        "colab_type": "text"
      },
      "source": [
        "Plot tangent lines for x**2\n",
        "\n",
        "We'll need the slope 2*x\n",
        "\n",
        "Then we need a point on the parabola\n",
        "x = 10\n"
      ]
    },
    {
      "cell_type": "code",
      "metadata": {
        "id": "M1nI5-m_xAx-",
        "colab_type": "code",
        "colab": {}
      },
      "source": [
        "a=[]\n",
        "b=[]\n",
        "\n",
        "def func(x):\n",
        "  return x**2\n",
        "\n",
        "def slope(x):\n",
        "  return 2*x\n",
        "\n",
        "#define the tangent line\n",
        "def line(x, x1, y1):\n",
        "  return slope(x1)*(x-x1)+y1\n",
        "\n",
        "x1 = -30\n",
        "y1 =  func(x1)\n",
        "\n",
        "\n"
      ],
      "execution_count": 0,
      "outputs": []
    },
    {
      "cell_type": "code",
      "metadata": {
        "id": "yCM26SrYxxfT",
        "colab_type": "code",
        "colab": {}
      },
      "source": [
        "# https://stackoverflow.com/questions/54961306/how-to-plot-the-slope-tangent-line-of-parabola-at-any-point"
      ],
      "execution_count": 0,
      "outputs": []
    },
    {
      "cell_type": "code",
      "metadata": {
        "id": "njsZGXDqx0Bv",
        "colab_type": "code",
        "outputId": "a0173e6f-fb25-4578-e18e-e50fdbf05a50",
        "colab": {
          "base_uri": "https://localhost:8080/",
          "height": 35
        }
      },
      "source": [
        "# Define x data range for parabola\n",
        "xa = np.linspace(-50,50,101)\n",
        "#xa = np.linspace(-5,5,11)\n",
        "\n",
        "yb = slope(xa)\n",
        "\n",
        "#print(xa)\n",
        "#print(yb)\n",
        "\n",
        "print(\"x={},y={}\".format(x1,y1))\n"
      ],
      "execution_count": 0,
      "outputs": [
        {
          "output_type": "stream",
          "text": [
            "x=-30,y=900\n"
          ],
          "name": "stdout"
        }
      ]
    },
    {
      "cell_type": "code",
      "metadata": {
        "id": "1PvVWwIa3PB5",
        "colab_type": "code",
        "outputId": "76db9e8a-704e-4a0d-da22-9fa7e16275d3",
        "colab": {
          "base_uri": "https://localhost:8080/",
          "height": 283
        }
      },
      "source": [
        "\n",
        "# Plot the figure\n",
        "plt.figure()\n",
        "plt.plot(xa, func(xa))\n",
        "plt.scatter(x1, y1, color='C1', s=50)\n",
        "plt.plot(xa, line(xa, x1, y1), 'C1--', linewidth = 2)\n"
      ],
      "execution_count": 0,
      "outputs": [
        {
          "output_type": "execute_result",
          "data": {
            "text/plain": [
              "[<matplotlib.lines.Line2D at 0x7f14b127d3c8>]"
            ]
          },
          "metadata": {
            "tags": []
          },
          "execution_count": 41
        },
        {
          "output_type": "display_data",
          "data": {
            "image/png": "[encoded data removed]",
            "text/plain": [
              "<Figure size 432x288 with 1 Axes>"
            ]
          },
          "metadata": {
            "tags": []
          }
        }
      ]
    },
    {
      "cell_type": "markdown",
      "metadata": {
        "id": "y7cVho862OHU",
        "colab_type": "text"
      },
      "source": [
        "Test the sympy options and graph with matplotlib"
      ]
    },
    {
      "cell_type": "code",
      "metadata": {
        "id": "OKJYi5K_y8TU",
        "colab_type": "code",
        "outputId": "2811a306-ccc6-4598-8be1-4b17dfd6fca9",
        "colab": {
          "base_uri": "https://localhost:8080/",
          "height": 63
        }
      },
      "source": [
        "from sympy import *\n",
        "init_printing(use_latex='mathjax')\n",
        "from IPython.display import HTML, Math\n",
        "display(HTML(\"<script src='https://cdnjs.cloudflare.com/ajax/libs/mathjax/2.7.3/\"\n",
        "             \"latest.js?config=default'></script>\"))\n",
        "Math(r\"e^\\alpha\")\n"
      ],
      "execution_count": 0,
      "outputs": [
        {
          "output_type": "display_data",
          "data": {
            "text/html": [
              "<script src='https://cdnjs.cloudflare.com/ajax/libs/mathjax/2.7.3/latest.js?config=default'></script>"
            ],
            "text/plain": [
              "<IPython.core.display.HTML object>"
            ]
          },
          "metadata": {
            "tags": []
          }
        },
        {
          "output_type": "execute_result",
          "data": {
            "text/latex": "$$e^\\alpha$$",
            "text/plain": [
              "<IPython.core.display.Math object>"
            ]
          },
          "metadata": {
            "tags": []
          },
          "execution_count": 42
        }
      ]
    },
    {
      "cell_type": "code",
      "metadata": {
        "id": "zwut86dC2XdQ",
        "colab_type": "code",
        "outputId": "3f9bdb63-d81b-414c-f039-1fb3e7c393be",
        "colab": {
          "base_uri": "https://localhost:8080/",
          "height": 34
        }
      },
      "source": [
        "x, y, z = symbols('x y z')\n",
        "\n",
        "\n",
        "def f(x):\n",
        "  return x**3\n",
        "\n",
        "figure = diff(exp(x**3),x)\n",
        "Math(str(figure))\n"
      ],
      "execution_count": 0,
      "outputs": [
        {
          "output_type": "execute_result",
          "data": {
            "text/latex": "$$3*x**2*exp(x**3)$$",
            "text/plain": [
              "<IPython.core.display.Math object>"
            ]
          },
          "metadata": {
            "tags": []
          },
          "execution_count": 43
        }
      ]
    }
  ]
}