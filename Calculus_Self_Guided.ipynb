{
 "cells": [
  {
   "cell_type": "markdown",
   "metadata": {
    "colab_type": "text",
    "id": "view-in-github"
   },
   "source": [
    "<a href=\"https://colab.research.google.com/github/ricklon/jupytercalculus/blob/master/Calculus_Self_Guided.ipynb\" target=\"_parent\"><img src=\"https://colab.research.google.com/assets/colab-badge.svg\" alt=\"Open In Colab\"/></a>"
   ]
  },
  {
   "cell_type": "markdown",
   "metadata": {
    "colab_type": "text",
    "id": "56UZv9vOvsd1"
   },
   "source": [
    "Plot a parabola\n",
    "\n",
    "Example from: https://stackoverflow.com/questions/30553585/graphing-a-parabola-using-matplotlib-in-python\n",
    "\n",
    "More examples: https://github.com/nishadhka/Learning-Calculus-with-Python/blob/master/p1_sympy_intro/basic_calculus_sympy.ipynb\n"
   ]
  },
  {
   "cell_type": "code",
   "execution_count": 2,
   "metadata": {},
   "outputs": [
    {
     "name": "stdout",
     "output_type": "stream",
     "text": [
      "WARNING: pip is being invoked by an old script wrapper. This will fail in a future version of pip.\n",
      "Please see https://github.com/pypa/pip/issues/5599 for advice on fixing the underlying issue.\n",
      "To avoid this problem you can invoke Python with '-m pip' instead of running pip directly.\n",
      "Collecting matplotlib\n",
      "  Downloading matplotlib-3.1.3-cp37-cp37m-manylinux1_x86_64.whl (13.1 MB)\n",
      "\u001b[K     |████████████████████████████████| 13.1 MB 4.2 MB/s eta 0:00:01    |█████▊                          | 2.4 MB 3.2 MB/s eta 0:00:04     |████████▊                       | 3.6 MB 3.2 MB/s eta 0:00:03     |█████████████████████▌          | 8.8 MB 4.6 MB/s eta 0:00:01     |█████████████████████████████   | 11.9 MB 4.2 MB/s eta 0:00:01\n",
      "\u001b[?25hCollecting cycler>=0.10\n",
      "  Downloading cycler-0.10.0-py2.py3-none-any.whl (6.5 kB)\n",
      "Collecting kiwisolver>=1.0.1\n",
      "  Downloading kiwisolver-1.1.0-cp37-cp37m-manylinux1_x86_64.whl (90 kB)\n",
      "\u001b[K     |████████████████████████████████| 90 kB 6.0 MB/s eta 0:00:011\n",
      "\u001b[?25hRequirement already satisfied: python-dateutil>=2.1 in /srv/conda/envs/notebook/lib/python3.7/site-packages (from matplotlib) (2.8.1)\n",
      "Collecting pyparsing!=2.0.4,!=2.1.2,!=2.1.6,>=2.0.1\n",
      "  Downloading pyparsing-2.4.6-py2.py3-none-any.whl (67 kB)\n",
      "\u001b[K     |████████████████████████████████| 67 kB 6.9 MB/s  eta 0:00:01\n",
      "\u001b[?25hCollecting numpy>=1.11\n",
      "  Downloading numpy-1.18.1-cp37-cp37m-manylinux1_x86_64.whl (20.1 MB)\n",
      "\u001b[K     |████████████████████████████████| 20.1 MB 4.0 MB/s eta 0:00:01     |██████                          | 3.7 MB 14.1 MB/s eta 0:00:02     |███████▎                        | 4.5 MB 3.4 MB/s eta 0:00:05     |███████████▎                    | 7.1 MB 3.4 MB/s eta 0:00:04\n",
      "\u001b[?25hRequirement already satisfied: six in /srv/conda/envs/notebook/lib/python3.7/site-packages (from cycler>=0.10->matplotlib) (1.14.0)\n",
      "Requirement already satisfied: setuptools in /srv/conda/envs/notebook/lib/python3.7/site-packages (from kiwisolver>=1.0.1->matplotlib) (45.1.0.post20200119)\n",
      "Installing collected packages: cycler, kiwisolver, pyparsing, numpy, matplotlib\n",
      "Successfully installed cycler-0.10.0 kiwisolver-1.1.0 matplotlib-3.1.3 numpy-1.18.1 pyparsing-2.4.6\n",
      "WARNING: pip is being invoked by an old script wrapper. This will fail in a future version of pip.\n",
      "Please see https://github.com/pypa/pip/issues/5599 for advice on fixing the underlying issue.\n",
      "To avoid this problem you can invoke Python with '-m pip' instead of running pip directly.\n",
      "Requirement already satisfied: numpy in /srv/conda/envs/notebook/lib/python3.7/site-packages (1.18.1)\n",
      "WARNING: pip is being invoked by an old script wrapper. This will fail in a future version of pip.\n",
      "Please see https://github.com/pypa/pip/issues/5599 for advice on fixing the underlying issue.\n",
      "To avoid this problem you can invoke Python with '-m pip' instead of running pip directly.\n",
      "Collecting sympy\n",
      "  Downloading sympy-1.5.1-py2.py3-none-any.whl (5.6 MB)\n",
      "\u001b[K     |████████████████████████████████| 5.6 MB 3.5 MB/s eta 0:00:01     |██████████▌                     | 1.8 MB 3.5 MB/s eta 0:00:02\n",
      "\u001b[?25hCollecting mpmath>=0.19\n",
      "  Downloading mpmath-1.1.0.tar.gz (512 kB)\n",
      "\u001b[K     |████████████████████████████████| 512 kB 40.4 MB/s eta 0:00:01\n",
      "\u001b[?25hBuilding wheels for collected packages: mpmath\n",
      "  Building wheel for mpmath (setup.py) ... \u001b[?25ldone\n",
      "\u001b[?25h  Created wheel for mpmath: filename=mpmath-1.1.0-py3-none-any.whl size=532238 sha256=ca029f4987204b2da4e00e4e5272410660a8319bde9c9dd77930cffb6f831f62\n",
      "  Stored in directory: /home/jovyan/.cache/pip/wheels/e2/46/78/e78f76c356bca9277368f1f97a31b37a8cb937176d9511af31\n",
      "Successfully built mpmath\n",
      "Installing collected packages: mpmath, sympy\n",
      "Successfully installed mpmath-1.1.0 sympy-1.5.1\n"
     ]
    }
   ],
   "source": [
    "!pip install matplotlib\n",
    "!pip install numpy\n",
    "!pip install sympy\n"
   ]
  },
  {
   "cell_type": "code",
   "execution_count": 3,
   "metadata": {
    "colab": {},
    "colab_type": "code",
    "id": "ZUIgzhSPuY-P"
   },
   "outputs": [],
   "source": [
    "import matplotlib.pyplot as plt\n",
    "import numpy as np\n"
   ]
  },
  {
   "cell_type": "code",
   "execution_count": 12,
   "metadata": {
    "colab": {
     "base_uri": "https://localhost:8080/",
     "height": 63
    },
    "colab_type": "code",
    "id": "OKJYi5K_y8TU",
    "outputId": "2811a306-ccc6-4598-8be1-4b17dfd6fca9"
   },
   "outputs": [
    {
     "data": {
      "text/html": [
       "<script src='https://cdnjs.cloudflare.com/ajax/libs/mathjax/2.7.3/latest.js?config=default'></script>"
      ],
      "text/plain": [
       "<IPython.core.display.HTML object>"
      ]
     },
     "metadata": {},
     "output_type": "display_data"
    },
    {
     "data": {
      "text/latex": [
       "$\\displaystyle e^\\alpha$"
      ],
      "text/plain": [
       "<IPython.core.display.Math object>"
      ]
     },
     "execution_count": 12,
     "metadata": {},
     "output_type": "execute_result"
    }
   ],
   "source": [
    "from sympy import *\n",
    "init_printing(use_latex='mathjax')\n",
    "from IPython.display import HTML, Math\n",
    "display(HTML(\"<script src='https://cdnjs.cloudflare.com/ajax/libs/mathjax/2.7.3/\"\n",
    "             \"latest.js?config=default'></script>\"))\n",
    "Math(r\"e^\\alpha\")\n"
   ]
  },
  {
   "cell_type": "code",
   "execution_count": 4,
   "metadata": {
    "colab": {},
    "colab_type": "code",
    "id": "w9SWwkuUup_A"
   },
   "outputs": [],
   "source": [
    "a=[]\n",
    "b=[]\n",
    "\n",
    "for x in range(-50, 50,1):\n",
    "  y=x**2\n",
    "  a.append(x)\n",
    "  b.append(y)"
   ]
  },
  {
   "cell_type": "code",
   "execution_count": 5,
   "metadata": {
    "colab": {
     "base_uri": "https://localhost:8080/",
     "height": 265
    },
    "colab_type": "code",
    "id": "0MnesRKlvQiE",
    "outputId": "61e9064f-14b6-41ee-aabd-c5a517a604eb"
   },
   "outputs": [
    {
     "data": {
      "image/png": "[encoded data removed]",
      "text/plain": [
       "<Figure size 432x288 with 1 Axes>"
      ]
     },
     "metadata": {
      "needs_background": "light"
     },
     "output_type": "display_data"
    }
   ],
   "source": [
    "fig = plt.figure()\n",
    "axes= fig.add_subplot(111)\n",
    "axes.plot(a,b)\n",
    "plt.show()\n"
   ]
  },
  {
   "cell_type": "markdown",
   "metadata": {
    "colab_type": "text",
    "id": "dVaWQEqqwnU0"
   },
   "source": [
    "Plot derivative of x**2\n",
    "\n",
    "f(x) = 2x"
   ]
  },
  {
   "cell_type": "code",
   "execution_count": 6,
   "metadata": {
    "colab": {},
    "colab_type": "code",
    "id": "g7lABdIbwxAG"
   },
   "outputs": [],
   "source": [
    "a=[]\n",
    "b=[]\n",
    "\n",
    "for x in range(-50, 50,1):\n",
    "  y=2*x\n",
    "  a.append(x)\n",
    "  b.append(y)"
   ]
  },
  {
   "cell_type": "code",
   "execution_count": 7,
   "metadata": {
    "colab": {
     "base_uri": "https://localhost:8080/",
     "height": 265
    },
    "colab_type": "code",
    "id": "kKbtsISuwx-T",
    "outputId": "80c9d9f6-8257-4ddc-f817-a9dad2f8fcd1"
   },
   "outputs": [
    {
     "data": {
      "image/png": "[encoded data removed]",
      "text/plain": [
       "<Figure size 432x288 with 1 Axes>"
      ]
     },
     "metadata": {
      "needs_background": "light"
     },
     "output_type": "display_data"
    }
   ],
   "source": [
    "fig = plt.figure()\n",
    "axes= fig.add_subplot(111)\n",
    "axes.plot(a,b)\n",
    "plt.show()"
   ]
  },
  {
   "cell_type": "markdown",
   "metadata": {
    "colab_type": "text",
    "id": "7TzLR6cVxBDj"
   },
   "source": [
    "Plot tangent lines for x**2\n",
    "\n",
    "We'll need the slope 2*x\n",
    "\n",
    "Then we need a point on the parabola\n",
    "x = 10\n"
   ]
  },
  {
   "cell_type": "code",
   "execution_count": 8,
   "metadata": {
    "colab": {},
    "colab_type": "code",
    "id": "M1nI5-m_xAx-"
   },
   "outputs": [],
   "source": [
    "a=[]\n",
    "b=[]\n",
    "\n",
    "def func(x):\n",
    "  return x**2\n",
    "\n",
    "def slope(x):\n",
    "  return 2*x\n",
    "\n",
    "#define the tangent line\n",
    "def line(x, x1, y1):\n",
    "  return slope(x1)*(x-x1)+y1\n",
    "\n",
    "x1 = -30\n",
    "y1 =  func(x1)\n",
    "\n",
    "\n"
   ]
  },
  {
   "cell_type": "code",
   "execution_count": 9,
   "metadata": {
    "colab": {},
    "colab_type": "code",
    "id": "yCM26SrYxxfT"
   },
   "outputs": [],
   "source": [
    "# https://stackoverflow.com/questions/54961306/how-to-plot-the-slope-tangent-line-of-parabola-at-any-point"
   ]
  },
  {
   "cell_type": "code",
   "execution_count": 10,
   "metadata": {
    "colab": {
     "base_uri": "https://localhost:8080/",
     "height": 35
    },
    "colab_type": "code",
    "id": "njsZGXDqx0Bv",
    "outputId": "a0173e6f-fb25-4578-e18e-e50fdbf05a50"
   },
   "outputs": [
    {
     "name": "stdout",
     "output_type": "stream",
     "text": [
      "x=-30,y=900\n"
     ]
    }
   ],
   "source": [
    "# Define x data range for parabola\n",
    "xa = np.linspace(-50,50,101)\n",
    "#xa = np.linspace(-5,5,11)\n",
    "\n",
    "yb = slope(xa)\n",
    "\n",
    "#print(xa)\n",
    "#print(yb)\n",
    "\n",
    "print(\"x={},y={}\".format(x1,y1))\n"
   ]
  },
  {
   "cell_type": "code",
   "execution_count": 11,
   "metadata": {
    "colab": {
     "base_uri": "https://localhost:8080/",
     "height": 283
    },
    "colab_type": "code",
    "id": "1PvVWwIa3PB5",
    "outputId": "76db9e8a-704e-4a0d-da22-9fa7e16275d3"
   },
   "outputs": [
    {
     "data": {
      "text/plain": [
       "[<matplotlib.lines.Line2D at 0x7fb0b996f890>]"
      ]
     },
     "execution_count": 11,
     "metadata": {},
     "output_type": "execute_result"
    },
    {
     "data": {
      "image/png": "[encoded data removed]",
      "text/plain": [
       "<Figure size 432x288 with 1 Axes>"
      ]
     },
     "metadata": {
      "needs_background": "light"
     },
     "output_type": "display_data"
    }
   ],
   "source": [
    "\n",
    "# Plot the figure\n",
    "plt.figure()\n",
    "plt.plot(xa, func(xa))\n",
    "plt.scatter(x1, y1, color='C1', s=50)\n",
    "plt.plot(xa, line(xa, x1, y1), 'C1--', linewidth = 2)\n"
   ]
  },
  {
   "cell_type": "markdown",
   "metadata": {
    "colab_type": "text",
    "id": "y7cVho862OHU"
   },
   "source": [
    "Test the sympy options and graph with matplotlib"
   ]
  },
  {
   "cell_type": "code",
   "execution_count": 16,
   "metadata": {
    "colab": {
     "base_uri": "https://localhost:8080/",
     "height": 34
    },
    "colab_type": "code",
    "id": "zwut86dC2XdQ",
    "outputId": "3f9bdb63-d81b-414c-f039-1fb3e7c393be"
   },
   "outputs": [
    {
     "name": "stdout",
     "output_type": "stream",
     "text": [
      "3*x**2\n"
     ]
    },
    {
     "data": {
      "text/latex": [
       "$\\displaystyle 3 x^{2}$"
      ],
      "text/plain": [
       "   2\n",
       "3⋅x "
      ]
     },
     "metadata": {},
     "output_type": "display_data"
    }
   ],
   "source": [
    "# start testing sympy\n",
    "x, y, z = symbols('x y z')\n",
    "\n",
    "\n",
    "def f(x):\n",
    "  return x**3\n",
    "\n",
    "figure = diff(x**3,x)\n",
    "print(figure)\n",
    "display(figure)\n",
    "\n"
   ]
  },
  {
   "cell_type": "code",
   "execution_count": null,
   "metadata": {},
   "outputs": [],
   "source": []
  }
 ],
 "metadata": {
  "colab": {
   "authorship_tag": "ABX9TyOyZgmDG0UF4eDDakCXo8EF",
   "collapsed_sections": [],
   "include_colab_link": true,
   "name": "Calculus Self Guided",
   "provenance": []
  },
  "kernelspec": {
   "display_name": "Python 3",
   "language": "python",
   "name": "python3"
  },
  "language_info": {
   "codemirror_mode": {
    "name": "ipython",
    "version": 3
   },
   "file_extension": ".py",
   "mimetype": "text/x-python",
   "name": "python",
   "nbconvert_exporter": "python",
   "pygments_lexer": "ipython3",
   "version": "3.7.6"
  }
 },
 "nbformat": 4,
 "nbformat_minor": 1
}
