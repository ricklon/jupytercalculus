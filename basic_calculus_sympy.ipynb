{
  "nbformat": 4,
  "nbformat_minor": 0,
  "metadata": {
    "kernelspec": {
      "display_name": "Python 3",
      "language": "python",
      "name": "python3"
    },
    "language_info": {
      "codemirror_mode": {
        "name": "ipython",
        "version": 3
      },
      "file_extension": ".py",
      "mimetype": "text/x-python",
      "name": "python",
      "nbconvert_exporter": "python",
      "pygments_lexer": "ipython3",
      "version": "3.6.8"
    },
    "toc": {
      "base_numbering": 1,
      "nav_menu": {},
      "number_sections": true,
      "sideBar": true,
      "skip_h1_title": false,
      "title_cell": "Table of Contents",
      "title_sidebar": "Contents",
      "toc_cell": false,
      "toc_position": {},
      "toc_section_display": true,
      "toc_window_display": false
    },
    "colab": {
      "name": "Copy of basic_calculus_sympy.ipynb",
      "provenance": [],
      "collapsed_sections": [],
      "include_colab_link": true
    }
  },
  "cells": [
    {
      "cell_type": "markdown",
      "metadata": {
        "id": "view-in-github",
        "colab_type": "text"
      },
      "source": [
        "<a href=\"https://colab.research.google.com/github/ricklon/jupytercalculus/blob/master/basic_calculus_sympy.ipynb\" target=\"_parent\"><img src=\"https://colab.research.google.com/assets/colab-badge.svg\" alt=\"Open In Colab\"/></a>"
      ]
    },
    {
      "cell_type": "markdown",
      "metadata": {
        "id": "kjOQCX8o4YyQ",
        "colab_type": "text"
      },
      "source": [
        "# Basic Calculus: Derivatives, Integrals, Limits\n",
        "from https://docs.sympy.org/latest/tutorial/basic_operations.html"
      ]
    },
    {
      "cell_type": "markdown",
      "metadata": {
        "id": "ZJ3YZSna4YyW",
        "colab_type": "text"
      },
      "source": [
        "Intiating symbol printing "
      ]
    },
    {
      "cell_type": "code",
      "metadata": {
        "id": "rN8zQmrJ4Yyb",
        "colab_type": "code",
        "colab": {}
      },
      "source": [
        "from sympy import *\n",
        "import sympy as sp\n",
        "init_printing()\n",
        "x, y, z = symbols('x y z')\n"
      ],
      "execution_count": 0,
      "outputs": []
    },
    {
      "cell_type": "code",
      "metadata": {
        "id": "F0z8HY2H7E9w",
        "colab_type": "code",
        "outputId": "8ecbc4dd-812a-47b7-afa1-d175c3c10b7d",
        "colab": {
          "base_uri": "https://localhost:8080/",
          "height": 35
        }
      },
      "source": [
        "print(sp.__version__)"
      ],
      "execution_count": 0,
      "outputs": [
        {
          "output_type": "stream",
          "text": [
            "1.1.1\n"
          ],
          "name": "stdout"
        }
      ]
    },
    {
      "cell_type": "code",
      "metadata": {
        "id": "2FgmZRiW4vI3",
        "colab_type": "code",
        "outputId": "4a995295-625d-4123-ea1f-d6b9d2d19a46",
        "colab": {
          "base_uri": "https://localhost:8080/",
          "height": 63
        }
      },
      "source": [
        "from IPython.display import HTML, Math\n",
        "display(HTML(\"<script src='https://cdnjs.cloudflare.com/ajax/libs/mathjax/2.7.3/\"\n",
        "             \"latest.js?config=default'></script>\"))\n",
        "Math(r\"e^\\alpha\")"
      ],
      "execution_count": 0,
      "outputs": [
        {
          "output_type": "display_data",
          "data": {
            "text/html": [
              "<script src='https://cdnjs.cloudflare.com/ajax/libs/mathjax/2.7.3/latest.js?config=default'></script>"
            ],
            "text/plain": [
              "<IPython.core.display.HTML object>"
            ]
          },
          "metadata": {
            "tags": []
          }
        },
        {
          "output_type": "execute_result",
          "data": {
            "text/latex": "$$e^\\alpha$$",
            "text/plain": [
              "<IPython.core.display.Math object>"
            ]
          },
          "metadata": {
            "tags": []
          },
          "execution_count": 69
        }
      ]
    },
    {
      "cell_type": "markdown",
      "metadata": {
        "id": "Fvl_rsVA4Yyn",
        "colab_type": "text"
      },
      "source": [
        "# Derivatives\n",
        "To take derivatives, use the diff function."
      ]
    },
    {
      "cell_type": "code",
      "metadata": {
        "id": "SxrGIw3A4Yyp",
        "colab_type": "code",
        "outputId": "3276c89e-755c-46c8-f78e-7e9e1c75335e",
        "colab": {
          "base_uri": "https://localhost:8080/",
          "height": 34
        }
      },
      "source": [
        "figure = diff(cos(x), x)\n",
        "display(figure)\n"
      ],
      "execution_count": 0,
      "outputs": [
        {
          "output_type": "display_data",
          "data": {
            "image/png": "[encoded data removed]",
            "text/latex": "$$- \\sin{\\left (x \\right )}$$",
            "text/plain": [
              "-sin(x)"
            ]
          },
          "metadata": {
            "tags": []
          }
        }
      ]
    },
    {
      "cell_type": "code",
      "metadata": {
        "id": "90Qe-bBS4Yyy",
        "colab_type": "code",
        "outputId": "76c8740f-4a9c-45de-bf63-e6d75af120e1",
        "colab": {
          "base_uri": "https://localhost:8080/",
          "height": 53
        }
      },
      "source": [
        "figure = diff(exp(x**2), x)\n",
        "print(figure)\n",
        "display(figure)"
      ],
      "execution_count": 0,
      "outputs": [
        {
          "output_type": "stream",
          "text": [
            "2*x*exp(x**2)\n"
          ],
          "name": "stdout"
        },
        {
          "output_type": "display_data",
          "data": {
            "image/png": "[encoded data removed]",
            "text/latex": "$$2 x e^{x^{2}}$$",
            "text/plain": [
              "     ⎛ 2⎞\n",
              "     ⎝x ⎠\n",
              "2⋅x⋅ℯ    "
            ]
          },
          "metadata": {
            "tags": []
          }
        }
      ]
    },
    {
      "cell_type": "markdown",
      "metadata": {
        "id": "yhaF97-p4Yy6",
        "colab_type": "text"
      },
      "source": [
        "diff can take multiple derivatives at once. To take multiple derivatives, pass the variable as many times as you wish to differentiate, or pass a number after the variable. For example, both of the following find the third derivative of x^4."
      ]
    },
    {
      "cell_type": "code",
      "metadata": {
        "id": "g5GhCo5R4Yy8",
        "colab_type": "code",
        "outputId": "5f04e86f-ed62-4578-c725-9832fa7a8413",
        "colab": {
          "base_uri": "https://localhost:8080/",
          "height": 34
        }
      },
      "source": [
        "diff(cos(x), x)"
      ],
      "execution_count": 0,
      "outputs": [
        {
          "output_type": "execute_result",
          "data": {
            "image/png": "[encoded data removed]",
            "text/latex": "$$- \\sin{\\left (x \\right )}$$",
            "text/plain": [
              "-sin(x)"
            ]
          },
          "metadata": {
            "tags": []
          },
          "execution_count": 61
        }
      ]
    },
    {
      "cell_type": "markdown",
      "metadata": {
        "id": "gvPBgU3e4YzE",
        "colab_type": "text"
      },
      "source": [
        "You can also take derivatives with respect to many variables at once. Just pass each derivative in order, using the same syntax as for single variable derivatives. "
      ]
    },
    {
      "cell_type": "code",
      "metadata": {
        "id": "W1s904fE4YzF",
        "colab_type": "code",
        "outputId": "5701a252-138d-4433-927b-79f2cf811bd8",
        "colab": {
          "base_uri": "https://localhost:8080/",
          "height": 34
        }
      },
      "source": [
        "diff(x**4, x, x, x)\n"
      ],
      "execution_count": 0,
      "outputs": [
        {
          "output_type": "execute_result",
          "data": {
            "image/png": "[encoded data removed]",
            "text/latex": "$$24 x$$",
            "text/plain": [
              "24⋅x"
            ]
          },
          "metadata": {
            "tags": []
          },
          "execution_count": 62
        }
      ]
    },
    {
      "cell_type": "markdown",
      "metadata": {
        "id": "6yxvayLY4YzL",
        "colab_type": "text"
      },
      "source": [
        "Evaluate a derivative, https://stackoverflow.com/a/44274950"
      ]
    },
    {
      "cell_type": "code",
      "metadata": {
        "id": "UREv-ddW4YzN",
        "colab_type": "code",
        "outputId": "b9654ba3-1697-422c-c30c-467946f98c4d",
        "colab": {
          "base_uri": "https://localhost:8080/",
          "height": 54
        }
      },
      "source": [
        "import sympy as sym\n",
        "import math\n",
        "\n",
        "\n",
        "def f(x,y):\n",
        "    return x**2 + x*y**2\n",
        "\n",
        "\n",
        "x, y = sym.symbols('x y')\n",
        "\n",
        "def fprime(x,y):\n",
        "    return sym.diff(f(x,y),x)\n",
        "\n",
        "print(fprime(x,y)) #This works.\n",
        "\n",
        "DerivativeOfF = sym.lambdify((x,y),fprime(x,y),\"numpy\")\n",
        "\n",
        "print(DerivativeOfF(1,1))"
      ],
      "execution_count": 0,
      "outputs": [
        {
          "output_type": "stream",
          "text": [
            "2*x + y**2\n",
            "3\n"
          ],
          "name": "stdout"
        }
      ]
    },
    {
      "cell_type": "markdown",
      "metadata": {
        "id": "R5mi-MaH4YzT",
        "colab_type": "text"
      },
      "source": [
        "Partial Derivatives, https://stackoverflow.com/a/30791631"
      ]
    },
    {
      "cell_type": "code",
      "metadata": {
        "id": "JFm10w-T4YzV",
        "colab_type": "code",
        "outputId": "d2ed7f80-daab-43dd-cc2b-2ae2024a5894",
        "colab": {
          "base_uri": "https://localhost:8080/",
          "height": 34
        }
      },
      "source": [
        "from sympy import symbols, diff\n",
        "x, y, z = symbols('x y z', real=True)\n",
        "f = 4*x*y + x*sin(z) + x**3 + z**8*y\n",
        "diff(f, x)"
      ],
      "execution_count": 0,
      "outputs": [
        {
          "output_type": "execute_result",
          "data": {
            "image/png": "[encoded data removed]",
            "text/latex": "$$3 x^{2} + 4 y + \\sin{\\left (z \\right )}$$",
            "text/plain": [
              "   2               \n",
              "3⋅x  + 4⋅y + sin(z)"
            ]
          },
          "metadata": {
            "tags": []
          },
          "execution_count": 64
        }
      ]
    },
    {
      "cell_type": "markdown",
      "metadata": {
        "id": "nxcnXwkW4YzZ",
        "colab_type": "text"
      },
      "source": [
        "# Integrals\n",
        "To compute an integral, use the integrate function. There are two kinds of integrals, definite and indefinite. To compute an indefinite integral, that is, an antiderivative, or primitive, just pass the variable after the expression."
      ]
    },
    {
      "cell_type": "code",
      "metadata": {
        "id": "pi0Osdp94Yzb",
        "colab_type": "code",
        "outputId": "72e9174f-2c0e-4d8a-dd18-f42c72d5b177",
        "colab": {
          "base_uri": "https://localhost:8080/",
          "height": 34
        }
      },
      "source": [
        "integrate(cos(x), x)"
      ],
      "execution_count": 0,
      "outputs": [
        {
          "output_type": "execute_result",
          "data": {
            "image/png": "[encoded data removed]",
            "text/latex": "$$\\sin{\\left (x \\right )}$$",
            "text/plain": [
              "sin(x)"
            ]
          },
          "metadata": {
            "tags": []
          },
          "execution_count": 65
        }
      ]
    },
    {
      "cell_type": "markdown",
      "metadata": {
        "id": "zI7WzPXB4Yzi",
        "colab_type": "text"
      },
      "source": [
        "∞ in SymPy is oo (that’s the lowercase letter “oh” twice). This is because oo looks like ∞, and is easy to type.\n",
        "To compute a definite integral, pass the argument (integration_variable, lower_limit, upper_limit). "
      ]
    },
    {
      "cell_type": "code",
      "metadata": {
        "id": "Kr6EGpk74Yzk",
        "colab_type": "code",
        "outputId": "05208fd4-f5ee-4133-9f5e-b5e799eec674",
        "colab": {
          "base_uri": "https://localhost:8080/",
          "height": 34
        }
      },
      "source": [
        "integrate(exp(-x), (x, 0, oo))"
      ],
      "execution_count": 0,
      "outputs": [
        {
          "output_type": "execute_result",
          "data": {
            "image/png": "[encoded data removed]",
            "text/latex": "$$1$$",
            "text/plain": [
              "1"
            ]
          },
          "metadata": {
            "tags": []
          },
          "execution_count": 66
        }
      ]
    },
    {
      "cell_type": "markdown",
      "metadata": {
        "id": "DZAs5SwG4Yzp",
        "colab_type": "text"
      },
      "source": [
        "As with indefinite integrals, you can pass multiple limit tuples to perform a multiple integral. "
      ]
    },
    {
      "cell_type": "code",
      "metadata": {
        "id": "7guZeI7u4Yzr",
        "colab_type": "code",
        "outputId": "5a6f2d38-69ba-4f28-8edf-379e068cff66",
        "colab": {
          "base_uri": "https://localhost:8080/",
          "height": 34
        }
      },
      "source": [
        "integrate(exp(-x**2 - y**2), (x, -oo, oo), (y, -oo, oo))"
      ],
      "execution_count": 0,
      "outputs": [
        {
          "output_type": "execute_result",
          "data": {
            "image/png": "[encoded data removed]",
            "text/latex": "$$\\pi$$",
            "text/plain": [
              "π"
            ]
          },
          "metadata": {
            "tags": []
          },
          "execution_count": 67
        }
      ]
    },
    {
      "cell_type": "code",
      "metadata": {
        "id": "rFzhHyzl4Yzw",
        "colab_type": "code",
        "outputId": "dbe06b58-697a-4fd4-d5f2-8c11b2646bb7",
        "colab": {
          "base_uri": "https://localhost:8080/",
          "height": 136
        }
      },
      "source": [
        "#If integrate is unable to compute an integral, it returns an unevaluated Integral object."
      ],
      "execution_count": 0,
      "outputs": [
        {
          "output_type": "error",
          "ename": "SyntaxError",
          "evalue": "ignored",
          "traceback": [
            "\u001b[0;36m  File \u001b[0;32m\"<ipython-input-68-736fb65235ad>\"\u001b[0;36m, line \u001b[0;32m1\u001b[0m\n\u001b[0;31m    If integrate is unable to compute an integral, it returns an unevaluated Integral object.\u001b[0m\n\u001b[0m               ^\u001b[0m\n\u001b[0;31mSyntaxError\u001b[0m\u001b[0;31m:\u001b[0m invalid syntax\n"
          ]
        }
      ]
    },
    {
      "cell_type": "code",
      "metadata": {
        "id": "OWzSlTEy4Yz2",
        "colab_type": "code",
        "colab": {}
      },
      "source": [
        "expr = integrate(x**x, x)\n",
        "print(expr)\n",
        "expr"
      ],
      "execution_count": 0,
      "outputs": []
    },
    {
      "cell_type": "markdown",
      "metadata": {
        "id": "2JjDodbv4Yz7",
        "colab_type": "text"
      },
      "source": [
        "As with Derivative, you can create an unevaluated integral using Integral. To later evaluate this integral, call doit."
      ]
    },
    {
      "cell_type": "code",
      "metadata": {
        "id": "F_eB-NOS4Yz8",
        "colab_type": "code",
        "colab": {}
      },
      "source": [
        "expr = Integral(log(x)**2, x)\n",
        "expr"
      ],
      "execution_count": 0,
      "outputs": []
    },
    {
      "cell_type": "code",
      "metadata": {
        "id": "PCNFqPi84Y0C",
        "colab_type": "code",
        "colab": {}
      },
      "source": [
        "expr.doit()"
      ],
      "execution_count": 0,
      "outputs": []
    },
    {
      "cell_type": "markdown",
      "metadata": {
        "id": "oeMGFwtc4Y0F",
        "colab_type": "text"
      },
      "source": [
        "integrate uses powerful algorithms that are always improving to compute both definite and indefinite integrals, including heuristic pattern matching type algorithms, a partial implementation of the Risch algorithm, and an algorithm using Meijer G-functions that is useful for computing integrals in terms of special functions, especially definite integrals. Here is a sampling of some of the power of integrate."
      ]
    },
    {
      "cell_type": "code",
      "metadata": {
        "id": "jN9gbVh14Y0G",
        "colab_type": "code",
        "colab": {}
      },
      "source": [
        "integ = Integral((x**4 + x**2*exp(x) - x**2 - 2*x*exp(x) - 2*x - exp(x))*exp(x)/((x - 1)**2*(x + 1)**2*(exp(x) + 1)), x)\n",
        "\n",
        "#integ\n",
        "\n",
        "integ.doit()"
      ],
      "execution_count": 0,
      "outputs": []
    },
    {
      "cell_type": "code",
      "metadata": {
        "id": "Min_bCpx4Y0K",
        "colab_type": "code",
        "colab": {}
      },
      "source": [
        "integ = Integral(sin(x**2), x)\n",
        "\n",
        "#integ\n",
        "\n",
        "integ.doit()"
      ],
      "execution_count": 0,
      "outputs": []
    },
    {
      "cell_type": "code",
      "metadata": {
        "id": "JOgqp7CI4Y0O",
        "colab_type": "code",
        "colab": {}
      },
      "source": [
        "integ = Integral(x**y*exp(-x), (x, 0, oo))\n",
        "\n",
        "#integ\n",
        "\n",
        "\n",
        "integ.doit()"
      ],
      "execution_count": 0,
      "outputs": []
    },
    {
      "cell_type": "markdown",
      "metadata": {
        "id": "_2PAnGMr4Y0S",
        "colab_type": "text"
      },
      "source": [
        "# Limits\n",
        "SymPy can compute symbolic limits with the limit function."
      ]
    },
    {
      "cell_type": "code",
      "metadata": {
        "id": "wq0NWi0_4Y0U",
        "colab_type": "code",
        "colab": {}
      },
      "source": [
        "limit(sin(x)/x, x, 0)\n"
      ],
      "execution_count": 0,
      "outputs": []
    },
    {
      "cell_type": "markdown",
      "metadata": {
        "id": "VsRAsSTZ4Y0X",
        "colab_type": "text"
      },
      "source": [
        "Like Derivative and Integral, limit has an unevaluated counterpart, Limit. To evaluate it, use doit."
      ]
    },
    {
      "cell_type": "code",
      "metadata": {
        "id": "pBXqgCGO4Y0Z",
        "colab_type": "code",
        "colab": {}
      },
      "source": [
        "expr = Limit((cos(x) - 1)/x, x, 0)\n",
        "expr\n",
        "#expr.doit()"
      ],
      "execution_count": 0,
      "outputs": []
    },
    {
      "cell_type": "code",
      "metadata": {
        "id": "WI1vm0A04Y0d",
        "colab_type": "code",
        "colab": {}
      },
      "source": [
        "To evaluate a limit at one side only, pass '+' or '-' as a third argument to limit."
      ],
      "execution_count": 0,
      "outputs": []
    },
    {
      "cell_type": "code",
      "metadata": {
        "id": "rLYw65fW4Y0h",
        "colab_type": "code",
        "colab": {}
      },
      "source": [
        "expr = limit(1/x, x, 0, '+')\n",
        "expr"
      ],
      "execution_count": 0,
      "outputs": []
    },
    {
      "cell_type": "code",
      "metadata": {
        "id": "wsDnSgCe4Y0m",
        "colab_type": "code",
        "colab": {}
      },
      "source": [
        "expr = limit(1/x, x, 0, '-')\n",
        "expr"
      ],
      "execution_count": 0,
      "outputs": []
    },
    {
      "cell_type": "markdown",
      "metadata": {
        "id": "NVtVLC6k4Y0p",
        "colab_type": "text"
      },
      "source": [
        "# Series Expansion¶\n",
        "\n",
        "SymPy can compute asymptotic series expansions of functions around a point. To compute the expansion of f(x)\n",
        "around the point x=x0 terms of order x^n , use f(x).series(x, x0, n). x0 and n can be omitted, in which case the defaults x0=0 and n=6 will be used.\n",
        "\n"
      ]
    },
    {
      "cell_type": "code",
      "metadata": {
        "id": "RVjOgjxk4Y0q",
        "colab_type": "code",
        "colab": {}
      },
      "source": [
        "expr = exp(sin(x))\n",
        "expr.series(x, 0, 4)"
      ],
      "execution_count": 0,
      "outputs": []
    },
    {
      "cell_type": "code",
      "metadata": {
        "id": "hZReEsEi4Y0t",
        "colab_type": "code",
        "colab": {}
      },
      "source": [
        " x + x**3 + x**6 + O(x**4)"
      ],
      "execution_count": 0,
      "outputs": []
    },
    {
      "cell_type": "markdown",
      "metadata": {
        "id": "qgsDxvPC4Y0y",
        "colab_type": "text"
      },
      "source": [
        "If you do not want the order term, use the removeO method."
      ]
    },
    {
      "cell_type": "code",
      "metadata": {
        "id": "UOI2gxd_4Y0z",
        "colab_type": "code",
        "colab": {}
      },
      "source": [
        "expr.series(x, 0, 4).removeO()"
      ],
      "execution_count": 0,
      "outputs": []
    },
    {
      "cell_type": "markdown",
      "metadata": {
        "id": "HteOlBgJ4Y03",
        "colab_type": "text"
      },
      "source": [
        "The O notation supports arbitrary limit points (other than 0):\n",
        "\n"
      ]
    },
    {
      "cell_type": "code",
      "metadata": {
        "id": "pe_Xikp-4Y04",
        "colab_type": "code",
        "colab": {}
      },
      "source": [
        "exp(x - 6).series(x, x0=6)\n"
      ],
      "execution_count": 0,
      "outputs": []
    }
  ]
}